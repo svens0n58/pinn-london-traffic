{
 "cells": [
  {
   "cell_type": "code",
   "execution_count": 6,
   "metadata": {},
   "outputs": [],
   "source": [
    "import pandas as pd\n",
    "import os"
   ]
  },
  {
   "cell_type": "code",
   "execution_count": 7,
   "metadata": {},
   "outputs": [],
   "source": [
    "df = pd.read_csv('london.csv')"
   ]
  },
  {
   "cell_type": "code",
   "execution_count": null,
   "metadata": {},
   "outputs": [],
   "source": [
    "unique_cameras = ['CNTR_N01/357b1', 'CNTR_N01/080q1', 'CNTR_N01/357d1', 'CNTR_N01/357c1', 'CNTR_N01/357a1', 'CNTR_N01/068q1', 'CNTR_N01/068q2', 'CNTR_N01/068q3', 'CNTR_N01/067q1', 'CNTR_N01/067q2', 'CNTR_N01/068x1', 'CNTR_N01/067q3', 'CNTR_N01/067c1', 'CNTR_N01/067f1', 'CNTR_N01/067e1', 'CNTR_N01/067b1', 'CNTR_N01/303a1', 'CNTR_N01/067h1', 'CNTR_N01/067g1', 'CNTR_N01/067i1', 'CNTR_N01/067d1', 'CNTR_N01/066q1', 'CNTR_N01/067a1', 'CNTR_N01/067j1', 'CNTR_N01/067k1', 'CNTR_N01/355d1', 'CNTR_N01/355c1', 'CNTR_N01/355a1', 'CNTR_N01/357q1', 'CNTR_N01/496a1', 'CNTR_N01/355b1', 'CNTR_N01/357d1', 'CNTR_N01/357c1', 'CNTR_N01/357a1', 'CNTR_N01/068b1', 'CNTR_N01/068a1', 'CNTR_N01/068c1', 'CNTR_N01/068d1']"
   ]
  },
  {
   "cell_type": "code",
   "execution_count": 9,
   "metadata": {},
   "outputs": [
    {
     "name": "stdout",
     "output_type": "stream",
     "text": [
      "london\n"
     ]
    }
   ],
   "source": [
    "city = df['city'].iloc[0]\n",
    "print(city)\n",
    "df = df.drop(['occ', 'error', 'city'], axis=1)"
   ]
  },
  {
   "cell_type": "code",
   "execution_count": 10,
   "metadata": {},
   "outputs": [
    {
     "name": "stdout",
     "output_type": "stream",
     "text": [
      "Saved CNTR_N01!068a1 for day: 2015-05-16\n",
      "Saved CNTR_N01!068a1 for day: 2015-05-15\n",
      "Saved CNTR_N01!068a1 for day: 2015-05-17\n",
      "Saved CNTR_N01!068a1 for day: 2015-05-18\n",
      "Saved CNTR_N01!068a1 for day: 2015-05-19\n",
      "Saved CNTR_N01!068a1 for day: 2015-05-20\n",
      "Saved CNTR_N01!068a1 for day: 2015-05-21\n",
      "Saved CNTR_N01!068a1 for day: 2015-05-22\n",
      "Saved CNTR_N01!068a1 for day: 2015-05-23\n",
      "Saved CNTR_N01!068a1 for day: 2015-10-01\n",
      "Saved CNTR_N01!068a1 for day: 2015-09-25\n",
      "Saved CNTR_N01!068a1 for day: 2015-09-26\n",
      "Saved CNTR_N01!068a1 for day: 2015-09-27\n",
      "Saved CNTR_N01!068a1 for day: 2015-09-28\n",
      "Saved CNTR_N01!068a1 for day: 2015-09-29\n",
      "Saved CNTR_N01!068a1 for day: 2015-09-30\n",
      "Saved CNTR_N01!068a1 for day: 2016-05-16\n",
      "Saved CNTR_N01!068a1 for day: 2016-05-17\n",
      "Saved CNTR_N01!068a1 for day: 2016-05-18\n",
      "Saved CNTR_N01!068a1 for day: 2016-05-19\n",
      "Saved CNTR_N01!068a1 for day: 2016-05-20\n",
      "Saved CNTR_N01!068a1 for day: 2016-05-21\n",
      "Saved CNTR_N01!068a1 for day: 2016-05-22\n",
      "Saved CNTR_N01!068c1 for day: 2015-05-16\n",
      "Saved CNTR_N01!068c1 for day: 2015-05-15\n",
      "Saved CNTR_N01!068c1 for day: 2015-05-17\n",
      "Saved CNTR_N01!068c1 for day: 2015-05-18\n",
      "Saved CNTR_N01!068c1 for day: 2015-05-19\n",
      "Saved CNTR_N01!068c1 for day: 2015-05-20\n",
      "Saved CNTR_N01!068c1 for day: 2015-05-21\n",
      "Saved CNTR_N01!068c1 for day: 2015-05-22\n",
      "Saved CNTR_N01!068c1 for day: 2015-05-23\n",
      "Saved CNTR_N01!068c1 for day: 2015-10-01\n",
      "Saved CNTR_N01!068c1 for day: 2015-09-25\n",
      "Saved CNTR_N01!068c1 for day: 2015-09-26\n",
      "Saved CNTR_N01!068c1 for day: 2015-09-27\n",
      "Saved CNTR_N01!068c1 for day: 2015-09-28\n",
      "Saved CNTR_N01!068c1 for day: 2015-09-29\n",
      "Saved CNTR_N01!068c1 for day: 2015-09-30\n",
      "Saved CNTR_N01!068c1 for day: 2016-05-16\n",
      "Saved CNTR_N01!068c1 for day: 2016-05-17\n",
      "Saved CNTR_N01!068c1 for day: 2016-05-18\n",
      "Saved CNTR_N01!068c1 for day: 2016-05-19\n",
      "Saved CNTR_N01!068c1 for day: 2016-05-20\n",
      "Saved CNTR_N01!068c1 for day: 2016-05-21\n",
      "Saved CNTR_N01!068c1 for day: 2016-05-22\n",
      "Saved CNTR_N01!068d1 for day: 2015-05-16\n",
      "Saved CNTR_N01!068d1 for day: 2015-05-15\n",
      "Saved CNTR_N01!068d1 for day: 2015-05-17\n",
      "Saved CNTR_N01!068d1 for day: 2015-05-18\n",
      "Saved CNTR_N01!068d1 for day: 2015-05-19\n",
      "Saved CNTR_N01!068d1 for day: 2015-05-20\n",
      "Saved CNTR_N01!068d1 for day: 2015-05-21\n",
      "Saved CNTR_N01!068d1 for day: 2015-05-22\n",
      "Saved CNTR_N01!068d1 for day: 2015-05-23\n",
      "Saved CNTR_N01!068d1 for day: 2015-10-01\n",
      "Saved CNTR_N01!068d1 for day: 2015-09-25\n",
      "Saved CNTR_N01!068d1 for day: 2015-09-26\n",
      "Saved CNTR_N01!068d1 for day: 2015-09-27\n",
      "Saved CNTR_N01!068d1 for day: 2015-09-28\n",
      "Saved CNTR_N01!068d1 for day: 2015-09-29\n",
      "Saved CNTR_N01!068d1 for day: 2015-09-30\n",
      "Saved CNTR_N01!068d1 for day: 2016-05-16\n",
      "Saved CNTR_N01!068d1 for day: 2016-05-17\n",
      "Saved CNTR_N01!068d1 for day: 2016-05-18\n",
      "Saved CNTR_N01!068d1 for day: 2016-05-19\n",
      "Saved CNTR_N01!068d1 for day: 2016-05-20\n",
      "Saved CNTR_N01!068d1 for day: 2016-05-21\n",
      "Saved CNTR_N01!068d1 for day: 2016-05-22\n"
     ]
    }
   ],
   "source": [
    "for camera in unique_cameras:\n",
    "    cam_df = df[df['detid'] == camera]\n",
    "    camera = camera.replace('/', '!')\n",
    "    unique_days = cam_df['day'].unique()\n",
    "    unique_days = unique_days.tolist()\n",
    "    for day in unique_days:\n",
    "        day_cam_df = cam_df[cam_df['day'] == day]\n",
    "\n",
    "        path = 'utd19_cleaned/' + city\n",
    "        if not os.path.exists(path):\n",
    "            os.mkdir(path)\n",
    "        path  += '/' + day\n",
    "        if not os.path.exists(path):\n",
    "            os.mkdir(path)\n",
    "        filename = camera + '.csv'\n",
    "        fullname = path + '/' + filename\n",
    "        day_cam_df.to_csv(fullname)\n",
    "        print(\"Saved \" + camera + \" for day: \" + day)"
   ]
  }
 ],
 "metadata": {
  "kernelspec": {
   "display_name": "Python 3",
   "language": "python",
   "name": "python3"
  },
  "language_info": {
   "codemirror_mode": {
    "name": "ipython",
    "version": 3
   },
   "file_extension": ".py",
   "mimetype": "text/x-python",
   "name": "python",
   "nbconvert_exporter": "python",
   "pygments_lexer": "ipython3",
   "version": "3.11.4"
  }
 },
 "nbformat": 4,
 "nbformat_minor": 2
}
