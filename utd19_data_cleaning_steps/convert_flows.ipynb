{
 "cells": [
  {
   "cell_type": "code",
   "execution_count": 9,
   "metadata": {},
   "outputs": [],
   "source": [
    "import pandas as pd\n",
    "import os"
   ]
  },
  {
   "cell_type": "code",
   "execution_count": 10,
   "metadata": {},
   "outputs": [
    {
     "name": "stdout",
     "output_type": "stream",
     "text": [
      "Processing folder: 2016-05-22\n",
      "The summed flows have been saved to utd19_cleaned/converted_flows/2016-05-22/f1100.csv.\n",
      "Processing folder: 2015-10-01\n",
      "The summed flows have been saved to utd19_cleaned/converted_flows/2015-10-01/f1100.csv.\n",
      "Processing folder: 2015-09-29\n",
      "The summed flows have been saved to utd19_cleaned/converted_flows/2015-09-29/f1100.csv.\n",
      "Processing folder: 2015-09-27\n",
      "The summed flows have been saved to utd19_cleaned/converted_flows/2015-09-27/f1100.csv.\n",
      "Processing folder: 2015-05-23\n",
      "The summed flows have been saved to utd19_cleaned/converted_flows/2015-05-23/f1100.csv.\n",
      "Processing folder: 2015-05-15\n",
      "The summed flows have been saved to utd19_cleaned/converted_flows/2015-05-15/f1100.csv.\n",
      "Processing folder: 2015-09-26\n",
      "The summed flows have been saved to utd19_cleaned/converted_flows/2015-09-26/f1100.csv.\n",
      "Processing folder: 2015-09-28\n",
      "The summed flows have been saved to utd19_cleaned/converted_flows/2015-09-28/f1100.csv.\n",
      "Processing folder: 2015-05-22\n",
      "The summed flows have been saved to utd19_cleaned/converted_flows/2015-05-22/f1100.csv.\n",
      "Processing folder: 2015-09-30\n",
      "The summed flows have been saved to utd19_cleaned/converted_flows/2015-09-30/f1100.csv.\n",
      "Processing folder: 2016-05-18\n",
      "The summed flows have been saved to utd19_cleaned/converted_flows/2016-05-18/f1100.csv.\n",
      "Processing folder: 2016-05-20\n",
      "The summed flows have been saved to utd19_cleaned/converted_flows/2016-05-20/f1100.csv.\n",
      "Processing folder: 2016-05-16\n",
      "The summed flows have been saved to utd19_cleaned/converted_flows/2016-05-16/f1100.csv.\n",
      "Processing folder: 2016-05-17\n",
      "The summed flows have been saved to utd19_cleaned/converted_flows/2016-05-17/f1100.csv.\n",
      "Processing folder: 2016-05-21\n",
      "The summed flows have been saved to utd19_cleaned/converted_flows/2016-05-21/f1100.csv.\n",
      "Processing folder: 2016-05-19\n",
      "The summed flows have been saved to utd19_cleaned/converted_flows/2016-05-19/f1100.csv.\n",
      "Processing folder: 2015-05-20\n",
      "The summed flows have been saved to utd19_cleaned/converted_flows/2015-05-20/f1100.csv.\n",
      "Processing folder: 2015-05-18\n",
      "The summed flows have been saved to utd19_cleaned/converted_flows/2015-05-18/f1100.csv.\n",
      "Processing folder: 2015-05-16\n",
      "The summed flows have been saved to utd19_cleaned/converted_flows/2015-05-16/f1100.csv.\n",
      "Processing folder: 2015-05-17\n",
      "The summed flows have been saved to utd19_cleaned/converted_flows/2015-05-17/f1100.csv.\n",
      "Processing folder: 2015-05-19\n",
      "The summed flows have been saved to utd19_cleaned/converted_flows/2015-05-19/f1100.csv.\n",
      "Processing folder: 2015-05-21\n",
      "The summed flows have been saved to utd19_cleaned/converted_flows/2015-05-21/f1100.csv.\n",
      "Processing folder: 2015-09-25\n",
      "The summed flows have been saved to utd19_cleaned/converted_flows/2015-09-25/f1100.csv.\n"
     ]
    }
   ],
   "source": [
    "main_folder_path = 'utd19_cleaned/london'\n",
    "\n",
    "for subfolder_name in os.listdir(main_folder_path):\n",
    "    subfolder_path = os.path.join(main_folder_path, subfolder_name)\n",
    "\n",
    "    if os.path.isdir(subfolder_path):\n",
    "        print(f\"Processing folder: {subfolder_name}\")\n",
    "        file1_path = os.path.join(subfolder_path, 'CNTR_N01!068q1.csv')\n",
    "        file2_path = os.path.join(subfolder_path, 'CNTR_N01!068q2.csv')\n",
    "        file3_path = os.path.join(subfolder_path, 'CNTR_N01!068q3.csv')\n",
    "        #file4_path = os.path.join(subfolder_path, 'CNTR_N01!067c1.csv')\n",
    "\n",
    "        file1 = pd.read_csv(file1_path)\n",
    "        file2 = pd.read_csv(file2_path)\n",
    "        file3 = pd.read_csv(file3_path)\n",
    "        #file4 = pd.read_csv(file4_path)\n",
    "\n",
    "        # Focus on the 'day', 'interval', and 'flow' columns for aggregation\n",
    "        columns_of_interest = ['day', 'interval', 'flow']\n",
    "\n",
    "        # Filter the dataframes\n",
    "        df1_filtered = file1[columns_of_interest]\n",
    "        df2_filtered = file2[columns_of_interest]\n",
    "        df3_filtered = file3[columns_of_interest]\n",
    "        #df4_filtered = file4[columns_of_interest]\n",
    "\n",
    "        # Concatenate the dataframes\n",
    "        merged_df = pd.concat([df1_filtered, df2_filtered, df3_filtered])\n",
    "        #merged_df = pd.concat([df1_filtered, df2_filtered, df3_filtered, df4_filtered])\n",
    "        #merged_df = pd.concat([df1_filtered, df2_filtered])\n",
    "        #merged_df = df1_filtered\n",
    "\n",
    "        # Group by 'day' and 'interval', then sum the flows\n",
    "        summed_flows = merged_df.groupby(['day', 'interval']).sum().reset_index()\n",
    "\n",
    "        # Save the result to a new file called f10.csv\n",
    "        output_path = 'utd19_cleaned/converted_flows/' + subfolder_name\n",
    "        if not os.path.exists(output_path):\n",
    "            os.mkdir(output_path)\n",
    "        output_path += '/' + 'f1100.csv'\n",
    "        summed_flows.to_csv(output_path, index=False)\n",
    "        print(f\"The summed flows have been saved to {output_path}.\")\n",
    "        "
   ]
  }
 ],
 "metadata": {
  "kernelspec": {
   "display_name": "Python 3",
   "language": "python",
   "name": "python3"
  },
  "language_info": {
   "codemirror_mode": {
    "name": "ipython",
    "version": 3
   },
   "file_extension": ".py",
   "mimetype": "text/x-python",
   "name": "python",
   "nbconvert_exporter": "python",
   "pygments_lexer": "ipython3",
   "version": "3.11.4"
  }
 },
 "nbformat": 4,
 "nbformat_minor": 2
}
